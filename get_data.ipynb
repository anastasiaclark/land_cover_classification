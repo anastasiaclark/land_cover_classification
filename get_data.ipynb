{
 "cells": [
  {
   "cell_type": "code",
   "execution_count": 1,
   "metadata": {},
   "outputs": [],
   "source": [
    "import pandas as pd\n",
    "import os\n",
    "import yaml\n",
    "from sentinelsat import SentinelAPI, read_geojson, geojson_to_wkt \n",
    "import osmnx as ox\n",
    "import folium"
   ]
  },
  {
   "cell_type": "code",
   "execution_count": 12,
   "metadata": {},
   "outputs": [],
   "source": [
    "from shapely.geometry import box"
   ]
  },
  {
   "cell_type": "code",
   "execution_count": 67,
   "metadata": {},
   "outputs": [],
   "source": [
    "with open(\"auth.yaml\", 'r') as ymlfile:\n",
    "    auth = yaml.safe_load(ymlfile)"
   ]
  },
  {
   "cell_type": "code",
   "execution_count": 68,
   "metadata": {},
   "outputs": [],
   "source": [
    "api = SentinelAPI(auth['copernicus_open_access_hub']['username'], \n",
    "                  auth['copernicus_open_access_hub']['password'],\n",
    "                  'https://scihub.copernicus.eu/dhus')"
   ]
  },
  {
   "cell_type": "code",
   "execution_count": 69,
   "metadata": {},
   "outputs": [],
   "source": [
    "place_name='Girardot, Cundinamarca Colombia '"
   ]
  },
  {
   "cell_type": "code",
   "execution_count": 70,
   "metadata": {},
   "outputs": [],
   "source": [
    "place = ox.gdf_from_place(place_name)"
   ]
  },
  {
   "cell_type": "code",
   "execution_count": 71,
   "metadata": {},
   "outputs": [],
   "source": [
    "query_box=box(minx=place.bbox_west.values[0],\n",
    "    miny=place.bbox_south.values[0],\n",
    "    maxx=place.bbox_east.values[0],\n",
    "    maxy=place.bbox_north.values[0])"
   ]
  },
  {
   "cell_type": "code",
   "execution_count": 100,
   "metadata": {},
   "outputs": [],
   "source": [
    "m = folium.Map([place.geometry.x, place.geometry.y], zoom_start=20)"
   ]
  },
  {
   "cell_type": "code",
   "execution_count": 101,
   "metadata": {},
   "outputs": [
    {
     "data": {
      "text/plain": [
       "<folium.features.GeoJson at 0x11d3f6ac8>"
      ]
     },
     "execution_count": 101,
     "metadata": {},
     "output_type": "execute_result"
    }
   ],
   "source": [
    "folium.GeoJson(place).add_to(m)"
   ]
  },
  {
   "cell_type": "code",
   "execution_count": 103,
   "metadata": {},
   "outputs": [],
   "source": [
    "# m"
   ]
  },
  {
   "cell_type": "code",
   "execution_count": 88,
   "metadata": {},
   "outputs": [
    {
     "data": {
      "text/plain": [
       "'{\"type\": \"FeatureCollection\", \"features\": [{\"id\": \"0\", \"type\": \"Feature\", \"properties\": {\"bbox_east\": -74.6415665, \"bbox_north\": 4.466643, \"bbox_south\": 4.146643, \"bbox_west\": -74.9615665, \"place_name\": \"Girardot, Cundinamarca, 252431, Colombia\"}, \"geometry\": {\"type\": \"Point\", \"coordinates\": [-74.8015665, 4.306643]}}]}'"
      ]
     },
     "execution_count": 88,
     "metadata": {},
     "output_type": "execute_result"
    }
   ],
   "source": [
    "place.to_json()"
   ]
  },
  {
   "cell_type": "code",
   "execution_count": 84,
   "metadata": {},
   "outputs": [],
   "source": [
    "products = api.query(query_box.wkt,\n",
    "                     date = ('20190601', '20190926'),\n",
    "                     platformname = 'Sentinel-2',\n",
    "                     processinglevel = 'Level-2A',\n",
    "                     cloudcoverpercentage = (0,10))\n"
   ]
  },
  {
   "cell_type": "code",
   "execution_count": 85,
   "metadata": {},
   "outputs": [],
   "source": [
    "products_gdf = api.to_geodataframe(products)"
   ]
  },
  {
   "cell_type": "code",
   "execution_count": 86,
   "metadata": {},
   "outputs": [],
   "source": [
    "if not products_gdf.empty:\n",
    "    products_gdf_sorted = products_gdf.sort_values(['cloudcoverpercentage'], ascending=[True])\n",
    "else:\n",
    "    print ('No records scences found for the filtered parameters')"
   ]
  },
  {
   "cell_type": "code",
   "execution_count": 116,
   "metadata": {},
   "outputs": [],
   "source": [
    "uuid=products_gdf_sorted.index.to_list()[0]"
   ]
  },
  {
   "cell_type": "code",
   "execution_count": 120,
   "metadata": {},
   "outputs": [],
   "source": [
    "title=products_gdf_sorted.loc[uuid].title"
   ]
  },
  {
   "cell_type": "code",
   "execution_count": 114,
   "metadata": {},
   "outputs": [
    {
     "name": "stderr",
     "output_type": "stream",
     "text": [
      "Downloading: 100%|██████████| 1.20G/1.20G [02:57<00:00, 6.74MB/s] \n",
      "MD5 checksumming: 100%|██████████| 1.20G/1.20G [00:02<00:00, 424MB/s]\n"
     ]
    },
    {
     "data": {
      "text/plain": [
       "{'id': '655a2364-bbd3-4ebb-9f21-9a103afdf268',\n",
       " 'title': 'S2A_MSIL2A_20190822T152641_N0213_R025_T18NVK_20190822T210428',\n",
       " 'size': 1195068314,\n",
       " 'md5': '625A52A0F8790078A10FB1A37510FA0B',\n",
       " 'date': datetime.datetime(2019, 8, 22, 15, 26, 41, 24000),\n",
       " 'footprint': 'POLYGON((-75.901794 4.523362716978575,-74.91202 4.523919106072805,-74.91211 3.53057468839868,-75.900696 3.530140808310985,-75.901794 4.523362716978575))',\n",
       " 'url': \"https://scihub.copernicus.eu/dhus/odata/v1/Products('655a2364-bbd3-4ebb-9f21-9a103afdf268')/$value\",\n",
       " 'Online': True,\n",
       " 'Creation Date': datetime.datetime(2019, 8, 23, 1, 18, 19, 849000),\n",
       " 'Ingestion Date': datetime.datetime(2019, 8, 23, 1, 15, 46, 590000),\n",
       " 'path': './S2A_MSIL2A_20190822T152641_N0213_R025_T18NVK_20190822T210428.zip',\n",
       " 'downloaded_bytes': 1195068314}"
      ]
     },
     "execution_count": 114,
     "metadata": {},
     "output_type": "execute_result"
    }
   ],
   "source": [
    "api.download(uuid, directory_path='./imagery')"
   ]
  },
  {
   "cell_type": "code",
   "execution_count": 123,
   "metadata": {},
   "outputs": [],
   "source": [
    "import zipfile\n",
    "with zipfile.ZipFile(f\"imagery/{title}.zip\",\"r\") as zip_ref:\n",
    "    zip_ref.extractall(\"imagery\")"
   ]
  },
  {
   "cell_type": "code",
   "execution_count": null,
   "metadata": {},
   "outputs": [],
   "source": []
  }
 ],
 "metadata": {
  "kernelspec": {
   "display_name": "Python 3",
   "language": "python",
   "name": "python3"
  },
  "language_info": {
   "codemirror_mode": {
    "name": "ipython",
    "version": 3
   },
   "file_extension": ".py",
   "mimetype": "text/x-python",
   "name": "python",
   "nbconvert_exporter": "python",
   "pygments_lexer": "ipython3",
   "version": "3.7.3"
  }
 },
 "nbformat": 4,
 "nbformat_minor": 4
}
